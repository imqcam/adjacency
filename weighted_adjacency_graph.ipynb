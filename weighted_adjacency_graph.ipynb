{
 "cells": [
  {
   "cell_type": "code",
   "execution_count": null,
   "metadata": {},
   "outputs": [],
   "source": [
    "import pandas as pd\n",
    "import networkx as nx\n",
    "import matplotlib.pyplot as plt\n",
    "from networkx.drawing.nx_agraph import graphviz_layout\n"
   ]
  },
  {
   "cell_type": "markdown",
   "metadata": {},
   "source": [
    "## Load and Preprocess Data\n",
    "Update the file path to point to your CSV file."
   ]
  },
  {
   "cell_type": "code",
   "execution_count": null,
   "metadata": {},
   "outputs": [],
   "source": [
    "# Load the CSV file (update the file path as needed)\n",
    "file_path = \"Table.csv\"\n",
    "df = pd.read_csv(file_path)\n"
   ]
  },
  {
   "cell_type": "markdown",
   "metadata": {},
   "source": [
    "## Standardize and Clean Names\n"
   ]
  },
  {
   "cell_type": "code",
   "execution_count": null,
   "metadata": {},
   "outputs": [],
   "source": [
    "standard_names = {\n",
    "    \"Rollett\": \"Rollett\", \"Ma\": \"Ma\", \"Wong\": \"Wong\", \"Sun\": \"Sun\",\n",
    "    \"Taheri-Mousavi\": \"Taheri-Mousavi\", \"Webler\": \"Webler\", \"Narra\": \"Narra\",\n",
    "    \"Oskay\": \"Oskay\", \"Lewandowski\": \"Lewandowski\", \"Ghosh\": \"Ghosh\",\n",
    "    \"Mahadevan & Karve\": \"Mahadevan & Karve\", \"SWRI\": \"SWRI\", \"Green\": \"Green\"\n",
    "}\n",
    "\n",
    "def clean_name(name):\n",
    "    name = str(name).strip().replace(\"\\n\", \" \")\n",
    "    for key in standard_names.keys():\n",
    "        if key.lower() in name.lower():\n",
    "            return standard_names[key]\n",
    "    return name\n",
    "\n",
    "# Convert all values to strings and handle missing values\n",
    "df = df.fillna(\"\")\n",
    "donors = df.iloc[:, 0].astype(str).apply(clean_name)\n",
    "recipients = df.iloc[:, 1].astype(str).apply(lambda x: [clean_name(name) for name in x.split(\"\\n\") if name.strip()])\n"
   ]
  },
  {
   "cell_type": "markdown",
   "metadata": {},
   "source": [
    "## Create Weighted Adjacency Graph"
   ]
  },
  {
   "cell_type": "code",
   "execution_count": null,
   "metadata": {},
   "outputs": [],
   "source": [
    "G_weighted = nx.DiGraph()\n",
    "weighted_edges = {}\n",
    "for donor, rec_list in zip(donors, recipients):\n",
    "    for recipient in rec_list:\n",
    "        if donor and recipient:\n",
    "            weighted_edges[(donor, recipient)] = weighted_edges.get((donor, recipient), 0) + 1\n",
    "\n",
    "for (donor, recipient), weight in weighted_edges.items():\n",
    "    G_weighted.add_edge(donor, recipient, weight=weight)\n"
   ]
  },
  {
   "cell_type": "markdown",
   "metadata": {},
   "source": [
    "## Display Weighted Adjacency Matrix"
   ]
  },
  {
   "cell_type": "code",
   "execution_count": null,
   "metadata": {},
   "outputs": [],
   "source": [
    "adj_matrix = nx.to_pandas_adjacency(G_weighted, dtype=int)\n",
    "display(adj_matrix)"
   ]
  },
  {
   "cell_type": "markdown",
   "metadata": {},
   "source": [
    "## Force-Directed Graph Visualization"
   ]
  },
  {
   "cell_type": "code",
   "execution_count": null,
   "metadata": {},
   "outputs": [],
   "source": [
    "plt.figure(figsize=(12, 8))\n",
    "pos = nx.spring_layout(G_weighted, seed=42, k=0.5)\n",
    "edges = G_weighted.edges(data=True)\n",
    "weights = [d['weight'] for _, _, d in edges]\n",
    "\n",
    "nx.draw(G_weighted, pos, with_labels=True, node_size=2500, node_color=\"lightblue\", edge_color=\"gray\", font_size=10, font_weight=\"bold\", arrows=True, width=weights)\n",
    "plt.title(\"Force-Directed Weighted Adjacency Graph\", fontsize=14)\n",
    "plt.show()"
   ]
  },
  {
   "cell_type": "markdown",
   "metadata": {},
   "source": [
    "## Hierarchical Graph Visualization"
   ]
  },
  {
   "cell_type": "code",
   "execution_count": null,
   "metadata": {},
   "outputs": [],
   "source": [
    "plt.figure(figsize=(12, 8))\n",
    "pos_hierarchy = graphviz_layout(G_weighted, prog=\"dot\")\n",
    "nx.draw(G_weighted, pos_hierarchy, with_labels=True, node_size=2500, node_color=\"lightblue\", edge_color=\"gray\", font_size=10, font_weight=\"bold\", arrows=True, width=weights)\n",
    "plt.title(\"Hierarchical Weighted Adjacency Graph\", fontsize=14)\n",
    "plt.show()"
   ]
  },
  {
   "cell_type": "code",
   "execution_count": null,
   "metadata": {},
   "outputs": [],
   "source": []
  },
  {
   "cell_type": "code",
   "execution_count": null,
   "metadata": {},
   "outputs": [],
   "source": []
  }
 ],
 "metadata": {
  "kernelspec": {
   "display_name": "Python 3 (ipykernel)",
   "language": "python",
   "name": "python3"
  },
  "language_info": {
   "codemirror_mode": {
    "name": "ipython",
    "version": 3
   },
   "file_extension": ".py",
   "mimetype": "text/x-python",
   "name": "python",
   "nbconvert_exporter": "python",
   "pygments_lexer": "ipython3",
   "version": "3.9.18"
  }
 },
 "nbformat": 4,
 "nbformat_minor": 4
}
